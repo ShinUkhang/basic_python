{
  "nbformat": 4,
  "nbformat_minor": 0,
  "metadata": {
    "colab": {
      "provenance": [],
      "authorship_tag": "ABX9TyPIFxshi83TQO/BweZjD610",
      "include_colab_link": true
    },
    "kernelspec": {
      "name": "python3",
      "display_name": "Python 3"
    },
    "language_info": {
      "name": "python"
    }
  },
  "cells": [
    {
      "cell_type": "markdown",
      "metadata": {
        "id": "view-in-github",
        "colab_type": "text"
      },
      "source": [
        "<a href=\"https://colab.research.google.com/github/ShinUkhang/basic_python/blob/main/%ED%8C%8C%EC%9D%B4%EC%8D%AC%EC%9D%98_%EA%B8%B0%EC%B4%88_2%EC%9D%BC%EC%B0%A8.ipynb\" target=\"_parent\"><img src=\"https://colab.research.google.com/assets/colab-badge.svg\" alt=\"Open In Colab\"/></a>"
      ]
    },
    {
      "cell_type": "markdown",
      "source": [
        "if 문"
      ],
      "metadata": {
        "id": "g-GpLmQpR6Z0"
      }
    },
    {
      "cell_type": "code",
      "execution_count": null,
      "metadata": {
        "colab": {
          "base_uri": "https://localhost:8080/"
        },
        "id": "mRVsNZQGrkIv",
        "outputId": "49b9b5be-81e4-430f-aabc-d7b659f5da05"
      },
      "outputs": [
        {
          "output_type": "stream",
          "name": "stdout",
          "text": [
            "Pass\n"
          ]
        }
      ],
      "source": [
        "x=95\n",
        "\n",
        "if x>=90:\n",
        "    print(\"Pass\")\n",
        "else:\n",
        "    print('Fail')"
      ]
    },
    {
      "cell_type": "code",
      "source": [
        "x=85\n",
        "\n",
        "if x>= 90:\n",
        "    print('Very Good')\n",
        "elif (x>=80)and(x<90):\n",
        "    print('Good')\n",
        "else:\n",
        "    print('Bad')"
      ],
      "metadata": {
        "colab": {
          "base_uri": "https://localhost:8080/"
        },
        "id": "hHWUZYAnR4iH",
        "outputId": "b52ccc51-211e-4f37-8942-28f08669ae9c"
      },
      "execution_count": null,
      "outputs": [
        {
          "output_type": "stream",
          "name": "stdout",
          "text": [
            "Good\n"
          ]
        }
      ]
    },
    {
      "cell_type": "code",
      "source": [
        "x=85\n",
        "\n",
        "if x>= 90:\n",
        "    print('Very good')\n",
        "elif 80<=x<90:\n",
        "    print('Good')\n",
        "else:\n",
        "    print('Bad')"
      ],
      "metadata": {
        "colab": {
          "base_uri": "https://localhost:8080/"
        },
        "id": "fIpbeFcqSazX",
        "outputId": "9e45b611-df25-46ae-8e83-8326a4407dbb"
      },
      "execution_count": null,
      "outputs": [
        {
          "output_type": "stream",
          "name": "stdout",
          "text": [
            "Good\n"
          ]
        }
      ]
    },
    {
      "cell_type": "markdown",
      "source": [
        "for 문"
      ],
      "metadata": {
        "id": "qwn06x4ZSkt-"
      }
    },
    {
      "cell_type": "code",
      "source": [
        "for a in [0,1,2,3,4,5]:\n",
        "    print(a)"
      ],
      "metadata": {
        "colab": {
          "base_uri": "https://localhost:8080/"
        },
        "id": "wnlr55PiSzO1",
        "outputId": "78b41884-9dda-4f35-9247-2328022cf40c"
      },
      "execution_count": null,
      "outputs": [
        {
          "output_type": "stream",
          "name": "stdout",
          "text": [
            "0\n",
            "1\n",
            "2\n",
            "3\n",
            "4\n",
            "5\n"
          ]
        }
      ]
    },
    {
      "cell_type": "code",
      "source": [
        "for a in range(6): #0부터 5까지 연속된 자연수\n",
        "    print(a)"
      ],
      "metadata": {
        "colab": {
          "base_uri": "https://localhost:8080/"
        },
        "id": "P87exz-sTTn0",
        "outputId": "ae35adf9-d7d9-4eef-ef05-7118c93a30ad"
      },
      "execution_count": null,
      "outputs": [
        {
          "output_type": "stream",
          "name": "stdout",
          "text": [
            "0\n",
            "1\n",
            "2\n",
            "3\n",
            "4\n",
            "5\n"
          ]
        }
      ]
    },
    {
      "cell_type": "code",
      "source": [
        "for a in range(1,6):\n",
        "    print(a)"
      ],
      "metadata": {
        "colab": {
          "base_uri": "https://localhost:8080/"
        },
        "id": "S7bBprx3S9lA",
        "outputId": "77d767ad-312b-4055-d989-6187c83aa026"
      },
      "execution_count": null,
      "outputs": [
        {
          "output_type": "stream",
          "name": "stdout",
          "text": [
            "1\n",
            "2\n",
            "3\n",
            "4\n",
            "5\n"
          ]
        }
      ]
    },
    {
      "cell_type": "code",
      "source": [
        "for a in range(0,6,2):\n",
        "    print(a)"
      ],
      "metadata": {
        "colab": {
          "base_uri": "https://localhost:8080/"
        },
        "id": "A8muz_J9TNnQ",
        "outputId": "ad45b013-f78f-4101-febf-ee4454b52f10"
      },
      "execution_count": null,
      "outputs": [
        {
          "output_type": "stream",
          "name": "stdout",
          "text": [
            "0\n",
            "2\n",
            "4\n"
          ]
        }
      ]
    },
    {
      "cell_type": "code",
      "source": [
        "x_list=['1','2','3']\n",
        "y_list=['학년','반']\n",
        "\n",
        "for x in x_list:\n",
        "    for y in y_list:\n",
        "        print(x,y)"
      ],
      "metadata": {
        "colab": {
          "base_uri": "https://localhost:8080/"
        },
        "id": "ZPWwXJaQTgJO",
        "outputId": "9b683f74-4440-4056-d330-7a06e9af263d"
      },
      "execution_count": null,
      "outputs": [
        {
          "output_type": "stream",
          "name": "stdout",
          "text": [
            "1 학년\n",
            "1 반\n",
            "2 학년\n",
            "2 반\n",
            "3 학년\n",
            "3 반\n"
          ]
        }
      ]
    },
    {
      "cell_type": "code",
      "source": [
        "names=['James','Robert','Lisa','Mary']\n",
        "scores=[95,96,97,94]"
      ],
      "metadata": {
        "id": "hmInnjDFUI4g"
      },
      "execution_count": null,
      "outputs": []
    },
    {
      "cell_type": "code",
      "source": [
        "len(names)"
      ],
      "metadata": {
        "colab": {
          "base_uri": "https://localhost:8080/"
        },
        "id": "0JaMFXCGUj4Q",
        "outputId": "4b9648bc-8fef-4376-8073-52a737b190d9"
      },
      "execution_count": null,
      "outputs": [
        {
          "output_type": "execute_result",
          "data": {
            "text/plain": [
              "4"
            ]
          },
          "metadata": {},
          "execution_count": 12
        }
      ]
    },
    {
      "cell_type": "code",
      "source": [
        "for k in range(len(names)):\n",
        "    if k==3:\n",
        "      print(names[k],scores[k])"
      ],
      "metadata": {
        "colab": {
          "base_uri": "https://localhost:8080/"
        },
        "id": "JQTrVQDRUWTa",
        "outputId": "5786d725-eada-4e4a-d7c9-87266ffa8ab9"
      },
      "execution_count": null,
      "outputs": [
        {
          "output_type": "stream",
          "name": "stdout",
          "text": [
            "Mary 94\n"
          ]
        }
      ]
    },
    {
      "cell_type": "code",
      "source": [
        "for name,score in zip(names,scores):\n",
        "    print(name, score)"
      ],
      "metadata": {
        "colab": {
          "base_uri": "https://localhost:8080/"
        },
        "id": "yYycHlM7Us1g",
        "outputId": "b1298b14-c2ed-48d2-ac46-27c9b50edb7d"
      },
      "execution_count": null,
      "outputs": [
        {
          "output_type": "stream",
          "name": "stdout",
          "text": [
            "James 95\n",
            "Robert 96\n",
            "Lisa 97\n",
            "Mary 94\n"
          ]
        }
      ]
    },
    {
      "cell_type": "code",
      "source": [
        "numbers=[1,2,3,4,5]\n",
        "square=[]\n",
        "\n",
        "for i in numbers:\n",
        "    square.append(i**2)\n",
        "print(square)"
      ],
      "metadata": {
        "colab": {
          "base_uri": "https://localhost:8080/"
        },
        "id": "yHu5j6IjVMdO",
        "outputId": "7b829490-7b1a-4fb7-d50e-d9ff23ac2787"
      },
      "execution_count": null,
      "outputs": [
        {
          "output_type": "stream",
          "name": "stdout",
          "text": [
            "[1, 4, 9, 16, 25]\n"
          ]
        }
      ]
    },
    {
      "cell_type": "code",
      "source": [
        "numbers=[1,2,3,4,5]\n",
        "square=[i**2 for i in numbers]\n",
        "print(square)"
      ],
      "metadata": {
        "colab": {
          "base_uri": "https://localhost:8080/"
        },
        "id": "TTt_28h7VeiI",
        "outputId": "65febdff-973d-464e-a384-95019133aadb"
      },
      "execution_count": null,
      "outputs": [
        {
          "output_type": "stream",
          "name": "stdout",
          "text": [
            "[1, 4, 9, 16, 25]\n"
          ]
        }
      ]
    },
    {
      "cell_type": "markdown",
      "source": [
        "if문과 for문을 함께 응용하기"
      ],
      "metadata": {
        "id": "TsZAViiFVv3i"
      }
    },
    {
      "cell_type": "code",
      "source": [
        "numbers=[1,2,3,4,5]\n",
        "square=[]\n",
        "\n",
        "for i in numbers:\n",
        "    if i>=3:\n",
        "        square.append(i**2)\n",
        "print(square)"
      ],
      "metadata": {
        "colab": {
          "base_uri": "https://localhost:8080/"
        },
        "id": "Xu14sxh6V6G4",
        "outputId": "0418aac3-01b0-445a-a65d-1dedde8824cf"
      },
      "execution_count": null,
      "outputs": [
        {
          "output_type": "stream",
          "name": "stdout",
          "text": [
            "[9, 16, 25]\n"
          ]
        }
      ]
    },
    {
      "cell_type": "code",
      "source": [
        "numbers=[1,2,3,4,5]\n",
        "square=[i**2 for i in numbers if i>=3]\n",
        "print(square)"
      ],
      "metadata": {
        "colab": {
          "base_uri": "https://localhost:8080/"
        },
        "id": "AGhHWydVWeLP",
        "outputId": "26f68a8f-6ff0-46d0-b9f3-ac57e4def01b"
      },
      "execution_count": null,
      "outputs": [
        {
          "output_type": "stream",
          "name": "stdout",
          "text": [
            "[9, 16, 25]\n"
          ]
        }
      ]
    },
    {
      "cell_type": "markdown",
      "source": [
        "과제"
      ],
      "metadata": {
        "id": "WrX4YFOnX7tR"
      }
    },
    {
      "cell_type": "markdown",
      "source": [
        "1 부터 10까지 합을 구하시오"
      ],
      "metadata": {
        "id": "799CyI3mX-K0"
      }
    },
    {
      "cell_type": "code",
      "source": [
        "s=0\n",
        "for i in range(1,11):\n",
        "    s=s+i\n",
        "print(s)"
      ],
      "metadata": {
        "colab": {
          "base_uri": "https://localhost:8080/"
        },
        "id": "l77ReA3vYEPU",
        "outputId": "8441d7fc-b1f8-4136-909c-e00881f98068"
      },
      "execution_count": null,
      "outputs": [
        {
          "output_type": "stream",
          "name": "stdout",
          "text": [
            "55\n"
          ]
        }
      ]
    },
    {
      "cell_type": "markdown",
      "source": [
        "피보나치 수열을 구해봅시다."
      ],
      "metadata": {
        "id": "vx4137M1YVsl"
      }
    },
    {
      "cell_type": "code",
      "source": [
        "a=0\n",
        "b=1\n",
        "c=1\n",
        "for i in range(10):\n",
        "    a=b+c\n",
        "    b=a+c\n",
        "    c=a+b\n",
        "    print(a)\n",
        "    print(b)\n",
        "    print(c)\n",
        "\n"
      ],
      "metadata": {
        "colab": {
          "base_uri": "https://localhost:8080/"
        },
        "id": "PH_BzPTyYY2_",
        "outputId": "99f8a313-227b-4ff5-c6ba-8793e18b963c"
      },
      "execution_count": null,
      "outputs": [
        {
          "output_type": "stream",
          "name": "stdout",
          "text": [
            "2\n",
            "3\n",
            "5\n",
            "8\n",
            "13\n",
            "21\n",
            "34\n",
            "55\n",
            "89\n",
            "144\n",
            "233\n",
            "377\n",
            "610\n",
            "987\n",
            "1597\n",
            "2584\n",
            "4181\n",
            "6765\n",
            "10946\n",
            "17711\n",
            "28657\n",
            "46368\n",
            "75025\n",
            "121393\n",
            "196418\n",
            "317811\n",
            "514229\n",
            "832040\n",
            "1346269\n",
            "2178309\n"
          ]
        }
      ]
    },
    {
      "cell_type": "code",
      "source": [
        "a=0\n",
        "b=1\n",
        "for i in range(10):\n",
        "    a=a+b\n",
        "    b=a+b\n",
        "\n",
        "    print(a)\n",
        "    print(b)\n",
        "\n"
      ],
      "metadata": {
        "colab": {
          "base_uri": "https://localhost:8080/"
        },
        "id": "It-2JNTCZ3eP",
        "outputId": "e4f1ae4a-7e7f-4d6f-91d4-4e314bb0564a"
      },
      "execution_count": null,
      "outputs": [
        {
          "output_type": "stream",
          "name": "stdout",
          "text": [
            "1\n",
            "2\n",
            "3\n",
            "5\n",
            "8\n",
            "13\n",
            "21\n",
            "34\n",
            "55\n",
            "89\n",
            "144\n",
            "233\n",
            "377\n",
            "610\n",
            "987\n",
            "1597\n",
            "2584\n",
            "4181\n",
            "6765\n",
            "10946\n"
          ]
        }
      ]
    },
    {
      "cell_type": "markdown",
      "source": [
        "입력과 출력"
      ],
      "metadata": {
        "id": "ncZNn6Ewa_LJ"
      }
    },
    {
      "cell_type": "code",
      "source": [
        "a=3.14159265\n",
        "print('{0:.2f}'.format(a))"
      ],
      "metadata": {
        "colab": {
          "base_uri": "https://localhost:8080/"
        },
        "id": "uVnck7wmbCed",
        "outputId": "61de528c-f184-473e-e0ac-f08394657051"
      },
      "execution_count": null,
      "outputs": [
        {
          "output_type": "stream",
          "name": "stdout",
          "text": [
            "3.14\n"
          ]
        }
      ]
    },
    {
      "cell_type": "code",
      "source": [
        "round(a,1)"
      ],
      "metadata": {
        "colab": {
          "base_uri": "https://localhost:8080/"
        },
        "id": "7RUQydZnUPjj",
        "outputId": "c5a683f9-ab41-464f-f6a5-e00d08a28eca"
      },
      "execution_count": null,
      "outputs": [
        {
          "output_type": "execute_result",
          "data": {
            "text/plain": [
              "3.1"
            ]
          },
          "metadata": {},
          "execution_count": 26
        }
      ]
    },
    {
      "cell_type": "code",
      "source": [
        "name=input('당신의 이름을 입력하세요!')\n",
        "print('당신의 이름은 '+name+'이군요')"
      ],
      "metadata": {
        "colab": {
          "base_uri": "https://localhost:8080/"
        },
        "id": "fWvnU_GllMd6",
        "outputId": "263593af-390a-47af-d29d-18367504ac9b"
      },
      "execution_count": null,
      "outputs": [
        {
          "output_type": "stream",
          "name": "stdout",
          "text": [
            "당신의 이름을 입력하세요!우캉우캉\n",
            "당신의 이름은 우캉우캉이군요\n"
          ]
        }
      ]
    },
    {
      "cell_type": "code",
      "source": [
        "number=input('숫자를 입력하세요')\n",
        "print(type(number))\n",
        "\n",
        "number=int(number)\n",
        "print(type(number))"
      ],
      "metadata": {
        "colab": {
          "base_uri": "https://localhost:8080/"
        },
        "id": "qFXKqWK5loLi",
        "outputId": "c9c67f80-d8ff-4360-fa17-ba94bc74b3fc"
      },
      "execution_count": null,
      "outputs": [
        {
          "output_type": "stream",
          "name": "stdout",
          "text": [
            "숫자를 입력하세요2\n",
            "<class 'str'>\n",
            "<class 'int'>\n"
          ]
        }
      ]
    }
  ]
}